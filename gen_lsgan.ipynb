{
 "cells": [
  {
   "cell_type": "code",
   "execution_count": 1,
   "metadata": {
    "collapsed": true
   },
   "outputs": [],
   "source": [
    "from __future__ import print_function\n",
    "import argparse\n",
    "import torch\n",
    "import torch.utils.data\n",
    "from torch import nn, optim\n",
    "from torch.autograd import Variable\n",
    "from torch.nn import functional as F\n",
    "from torchvision import datasets, transforms\n",
    "from torchvision.utils import save_image\n",
    "import torchvision.utils as vutils\n",
    "\n",
    "\n"
   ]
  },
  {
   "cell_type": "code",
   "execution_count": 2,
   "metadata": {
    "collapsed": false
   },
   "outputs": [],
   "source": [
    "% load_ext autoreload \n",
    "% autoreload 2"
   ]
  },
  {
   "cell_type": "code",
   "execution_count": 3,
   "metadata": {
    "collapsed": true
   },
   "outputs": [],
   "source": [
    "from modules_tied import VAE\n",
    "from modules_tied import NetD\n",
    "from modules_tied import Aux\n",
    "from modules_tied import loss_function"
   ]
  },
  {
   "cell_type": "code",
   "execution_count": 4,
   "metadata": {
    "collapsed": true
   },
   "outputs": [],
   "source": [
    "bsz = 100\n",
    "criterion = nn.BCELoss()\n"
   ]
  },
  {
   "cell_type": "code",
   "execution_count": 5,
   "metadata": {
    "collapsed": true
   },
   "outputs": [],
   "source": [
    "train_loader = torch.utils.data.DataLoader(\n",
    "    datasets.MNIST('../data', train=True, download=True,\n",
    "                   transform=transforms.ToTensor()),\n",
    "    batch_size=bsz, shuffle=True)\n",
    "test_loader = torch.utils.data.DataLoader(\n",
    "    datasets.MNIST('../data', train=False, transform=transforms.ToTensor()),\n",
    "    batch_size=bsz, shuffle=True)\n"
   ]
  },
  {
   "cell_type": "code",
   "execution_count": 6,
   "metadata": {
    "collapsed": false
   },
   "outputs": [
    {
     "name": "stdout",
     "output_type": "stream",
     "text": [
      "VAE(\n",
      "  (fc1): Linear(in_features=784, out_features=400, bias=True)\n",
      "  (fc21): Linear(in_features=400, out_features=20, bias=True)\n",
      "  (fc22): Linear(in_features=400, out_features=20, bias=True)\n",
      "  (fc3): Linear(in_features=20, out_features=400, bias=True)\n",
      "  (fc4): Linear(in_features=400, out_features=784, bias=True)\n",
      "  (relu): ReLU()\n",
      "  (sigmoid): Sigmoid()\n",
      "  (mu_): Sequential(\n",
      "    (0): Conv2d(1, 8, kernel_size=(5, 5), stride=(2, 2), bias=False)\n",
      "    (1): BatchNorm2d(8, eps=1e-05, momentum=0.1, affine=True, track_running_stats=True)\n",
      "    (2): ReLU(inplace)\n",
      "    (3): Conv2d(8, 64, kernel_size=(5, 5), stride=(2, 2), bias=False)\n",
      "    (4): BatchNorm2d(64, eps=1e-05, momentum=0.1, affine=True, track_running_stats=True)\n",
      "    (5): ReLU(inplace)\n",
      "    (6): Conv2d(64, 20, kernel_size=(4, 4), stride=(1, 1), bias=False)\n",
      "    (7): ReLU(inplace)\n",
      "  )\n",
      "  (logsigma_): Sequential(\n",
      "    (0): Conv2d(1, 8, kernel_size=(5, 5), stride=(2, 2), bias=False)\n",
      "    (1): BatchNorm2d(8, eps=1e-05, momentum=0.1, affine=True, track_running_stats=True)\n",
      "    (2): ReLU(inplace)\n",
      "    (3): Conv2d(8, 64, kernel_size=(5, 5), stride=(2, 2), bias=False)\n",
      "    (4): BatchNorm2d(64, eps=1e-05, momentum=0.1, affine=True, track_running_stats=True)\n",
      "    (5): ReLU(inplace)\n",
      "    (6): Conv2d(64, 20, kernel_size=(4, 4), stride=(1, 1), bias=False)\n",
      "    (7): ReLU(inplace)\n",
      "  )\n",
      "  (dec_): Sequential(\n",
      "    (0): ConvTranspose2d(20, 160, kernel_size=(4, 4), stride=(1, 1), bias=False)\n",
      "    (1): BatchNorm2d(160, eps=1e-05, momentum=0.1, affine=True, track_running_stats=True)\n",
      "    (2): ReLU(inplace)\n",
      "    (3): ConvTranspose2d(160, 320, kernel_size=(4, 4), stride=(2, 2), padding=(1, 1), bias=False)\n",
      "    (4): BatchNorm2d(320, eps=1e-05, momentum=0.1, affine=True, track_running_stats=True)\n",
      "    (5): ReLU(inplace)\n",
      "    (6): ConvTranspose2d(320, 640, kernel_size=(4, 4), stride=(2, 2), padding=(1, 1), bias=False)\n",
      "    (7): BatchNorm2d(640, eps=1e-05, momentum=0.1, affine=True, track_running_stats=True)\n",
      "    (8): ReLU(inplace)\n",
      "    (9): ConvTranspose2d(640, 1, kernel_size=(2, 2), stride=(2, 2), padding=(2, 2), bias=False)\n",
      "    (10): Sigmoid()\n",
      "  )\n",
      ")\n"
     ]
    }
   ],
   "source": [
    "netG = VAE()\n",
    "netD = NetD()\n",
    "#aux = Aux()\n",
    "print(netG)"
   ]
  },
  {
   "cell_type": "code",
   "execution_count": 7,
   "metadata": {
    "collapsed": true
   },
   "outputs": [],
   "source": [
    "optimizerD = optim.Adam(netD.parameters(), lr=1e-3)\n",
    "optimizerG = optim.Adam(netG.parameters(), lr=1e-3)\n",
    "#optimizer_aux = optim.Adam(aux.parameters(), lr=1e-4)"
   ]
  },
  {
   "cell_type": "code",
   "execution_count": 8,
   "metadata": {
    "collapsed": false
   },
   "outputs": [],
   "source": [
    "input = torch.FloatTensor(bsz,28,28)\n",
    "label = torch.FloatTensor(bsz)\n",
    "real_label=1\n",
    "fake_label=0\n",
    "USE_CUDA=1\n",
    "lamb = 1e-1\n",
    "l1dist = nn.PairwiseDistance(1)\n",
    "l2dist = nn.PairwiseDistance(2)\n",
    "LeakyReLU = nn.LeakyReLU(0)\n",
    "\n",
    "if(USE_CUDA):\n",
    "    netG=netG.cuda()\n",
    "    netD=netD.cuda()\n",
    "    #aux = aux.cuda()\n",
    "    #criterion=criterion.cuda()\n",
    "    input,label=input.cuda(), label.cuda()\n",
    "    l1dist = l1dist.cuda()\n",
    "    l2dist = l2dist.cuda()\n",
    "    LeakyReLU = LeakyReLU.cuda()"
   ]
  },
  {
   "cell_type": "code",
   "execution_count": 9,
   "metadata": {
    "collapsed": true
   },
   "outputs": [],
   "source": [
    "def get_direct_gradient_penalty(netD, x, gamma, cuda):\n",
    "    _,output = netD(x)\n",
    "    gradOutput = torch.ones(output.size()).cuda() if cuda else torch.ones(output.size())\n",
    "    \n",
    "    gradient = torch.autograd.grad(outputs=output, inputs=x, grad_outputs=gradOutput, create_graph=True, retain_graph=True, only_inputs=True)[0]\n",
    "    gradientPenalty = (gradient.norm(2, dim=1)).mean() * gamma\n",
    "    \n",
    "    return gradientPenalty\n"
   ]
  },
  {
   "cell_type": "code",
   "execution_count": null,
   "metadata": {
    "collapsed": false
   },
   "outputs": [
    {
     "name": "stdout",
     "output_type": "stream",
     "text": [
      "epoch  0\n",
      "epoch  0\n",
      "epoch  0\n",
      "epoch  0\n",
      "epoch  0\n",
      "epoch  0\n",
      "epoch  1\n",
      "epoch  1\n",
      "epoch  1\n",
      "epoch  1\n",
      "epoch  1\n",
      "epoch  1\n",
      "epoch  2\n",
      "epoch  2\n",
      "epoch  2\n",
      "epoch  2\n",
      "epoch  2\n",
      "epoch  2\n",
      "epoch  3\n",
      "epoch  3\n",
      "epoch  3\n",
      "epoch  3\n",
      "epoch  3\n"
     ]
    }
   ],
   "source": [
    "for epoch in range(10000):\n",
    "    for i, (data,_) in enumerate(train_loader):\n",
    "        gamma = 1\n",
    "        real_cpu = data;\n",
    "\n",
    "        real_cpu = real_cpu.cuda()\n",
    "        input.resize_as_(real_cpu).copy_(real_cpu)\n",
    "        label.resize_(bsz).fill_(real_label)\n",
    "\n",
    "        dataSize = input.size(0)\n",
    "        inputv = Variable(input,requires_grad=True)\n",
    "        #irrelevant here \n",
    "        labelv = Variable(label)\n",
    "\n",
    "        for p in netD.parameters():\n",
    "            p.requires_grad = True\n",
    "        \n",
    "        #need variables for dis\n",
    "        #x_l, x_l_tilde\n",
    "        #do discriminator calculations\n",
    "        netD.zero_grad()\n",
    "        netG.zero_grad()\n",
    "        #fc3_weight,fc4_weight = aux.return_weights()\n",
    "        mu,logvar, fake = netG(inputv)\n",
    "        \n",
    "        x_l_tilde, output_fake = netD(fake)\n",
    "        x_l, output_real = netD(inputv)\n",
    "        #x_l_aux, output_fake_aux = netD(fake_aux)\n",
    "        \n",
    "        pdist = l1dist(input.view(dataSize,-1), fake.view(dataSize,-1)).mul(lamb)\n",
    "        \n",
    "        #print('pdist.size()',pdist.size())\n",
    "        errD_fake = LeakyReLU(output_real - output_fake + pdist).mean()\n",
    "        #print('errD_fake.size()',errD_fake.size())\n",
    "        \n",
    "        errD_fake.backward(retain_graph=True)\n",
    "        \n",
    "        #gradient penalty\n",
    "        #need to set gamma \n",
    "        #print('inputv.size()',inputv.size())\n",
    "        gp = get_direct_gradient_penalty(netD,inputv,10,True)\n",
    "        gp.backward(retain_graph=True)\n",
    "        \n",
    "        optimizerD.step()\n",
    "        \n",
    "          \n",
    "        for p in netD.parameters():\n",
    "            p.requires_grad = False\n",
    "\n",
    "\n",
    "        L_enc = gamma*loss_function(x_l_tilde, x_l,mu,logvar)/bsz\n",
    "        L_enc.backward()\n",
    "        optimizerG.step()\n",
    "         \n",
    "    \n",
    "        if (i % 100 == 0):\n",
    "            print('epoch ', epoch)\n",
    "        #print('real_cpu.size()', real_cpu.size())\n",
    "            vutils.save_image(real_cpu,\n",
    "                            './real_samples.png',\n",
    "                                normalize=True)\n",
    "            vutils.save_image(fake.data.view(-1,1,28,28),\n",
    "                                './fake_samples.png',\n",
    "                                normalize=True)"
   ]
  },
  {
   "cell_type": "code",
   "execution_count": null,
   "metadata": {
    "collapsed": true
   },
   "outputs": [],
   "source": []
  }
 ],
 "metadata": {
  "kernelspec": {
   "display_name": "Python 3",
   "language": "python",
   "name": "python3"
  },
  "language_info": {
   "codemirror_mode": {
    "name": "ipython",
    "version": 3
   },
   "file_extension": ".py",
   "mimetype": "text/x-python",
   "name": "python",
   "nbconvert_exporter": "python",
   "pygments_lexer": "ipython3",
   "version": "3.6.0"
  }
 },
 "nbformat": 4,
 "nbformat_minor": 2
}
