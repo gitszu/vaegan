{
 "cells": [
  {
   "cell_type": "code",
   "execution_count": 1,
   "metadata": {
    "collapsed": true
   },
   "outputs": [],
   "source": [
    "from __future__ import print_function\n",
    "import argparse\n",
    "import torch\n",
    "import torch.utils.data\n",
    "from torch import nn, optim\n",
    "from torch.autograd import Variable\n",
    "from torch.nn import functional as F\n",
    "from torchvision import datasets, transforms\n",
    "from torchvision.utils import save_image\n",
    "import torchvision.utils as vutils\n",
    "\n",
    "\n"
   ]
  },
  {
   "cell_type": "code",
   "execution_count": 2,
   "metadata": {
    "collapsed": true
   },
   "outputs": [],
   "source": [
    "% load_ext autoreload \n",
    "% autoreload 2"
   ]
  },
  {
   "cell_type": "code",
   "execution_count": 3,
   "metadata": {
    "collapsed": true
   },
   "outputs": [],
   "source": [
    "from modules_tied import VAE\n",
    "from modules_tied import NetD\n",
    "from modules_tied import Aux\n",
    "from modules_tied import loss_function"
   ]
  },
  {
   "cell_type": "code",
   "execution_count": 4,
   "metadata": {
    "collapsed": true
   },
   "outputs": [],
   "source": [
    "bsz = 100\n",
    "criterion = nn.BCELoss()\n"
   ]
  },
  {
   "cell_type": "code",
   "execution_count": 5,
   "metadata": {},
   "outputs": [],
   "source": [
    "train_loader = torch.utils.data.DataLoader(\n",
    "    datasets.MNIST('../data', train=True, download=True,\n",
    "                   transform=transforms.ToTensor()),\n",
    "    batch_size=bsz, shuffle=True)\n",
    "test_loader = torch.utils.data.DataLoader(\n",
    "    datasets.MNIST('../data', train=False, transform=transforms.ToTensor()),\n",
    "    batch_size=bsz, shuffle=True)\n"
   ]
  },
  {
   "cell_type": "code",
   "execution_count": 6,
   "metadata": {
    "collapsed": true
   },
   "outputs": [],
   "source": [
    "netG = VAE()\n",
    "netD = NetD()\n",
    "aux = Aux()"
   ]
  },
  {
   "cell_type": "code",
   "execution_count": 7,
   "metadata": {
    "collapsed": true
   },
   "outputs": [],
   "source": [
    "optimizerD = optim.Adam(netD.parameters(), lr=1e-4)\n",
    "optimizerG = optim.Adam(netG.parameters(), lr=1e-4)\n",
    "optimizer_aux = optim.Adam(aux.parameters(), lr=1e-4)"
   ]
  },
  {
   "cell_type": "code",
   "execution_count": 8,
   "metadata": {},
   "outputs": [],
   "source": [
    "input = torch.FloatTensor(bsz,28,28)\n",
    "label = torch.FloatTensor(bsz)\n",
    "real_label=1\n",
    "fake_label=0\n",
    "USE_CUDA=1\n",
    "lamb = 2e-4\n",
    "l1dist = nn.PairwiseDistance(1)\n",
    "l2dist = nn.PairwiseDistance(2)\n",
    "LeakyReLU = nn.LeakyReLU(0)\n",
    "\n",
    "if(USE_CUDA):\n",
    "    netG=netG.cuda()\n",
    "    netD=netD.cuda()\n",
    "    aux = aux.cuda()\n",
    "    criterion=criterion.cuda()\n",
    "    input,label=input.cuda(), label.cuda()\n",
    "    l1dist = l1dist.cuda()\n",
    "    l2dist = l2dist.cuda()\n",
    "    LeakyReLU = LeakyReLU.cuda()"
   ]
  },
  {
   "cell_type": "code",
   "execution_count": 9,
   "metadata": {
    "collapsed": true
   },
   "outputs": [],
   "source": [
    "def get_direct_gradient_penalty(netD, x, gamma, cuda):\n",
    "    _,output = netD(x)\n",
    "    print(output.size())\n",
    "    gradOutput = torch.ones(output.size()).cuda() if cuda else torch.ones(output.size())\n",
    "    \n",
    "    gradient = torch.autograd.grad(outputs=output, inputs=x, grad_outputs=gradOutput, create_graph=True, retain_graph=True, only_inputs=True)[0]\n",
    "    gradientPenalty = (gradient.norm(2, dim=1)).mean() * gamma\n",
    "    \n",
    "    return gradientPenalty\n"
   ]
  },
  {
   "cell_type": "code",
   "execution_count": null,
   "metadata": {},
   "outputs": [],
   "source": [
    "for epoch in range(10000):\n",
    "    for i, (data,_) in enumerate(train_loader):\n",
    "        gamma = 100\n",
    "        real_cpu = data;\n",
    "\n",
    "        real_cpu = real_cpu.cuda()\n",
    "        input.resize_as_(real_cpu).copy_(real_cpu)\n",
    "        label.resize_(bsz).fill_(real_label)\n",
    "\n",
    "        dataSize = input.size(0)\n",
    "        inputv = Variable(input,requires_grad=True)\n",
    "        #irrelevant here \n",
    "        labelv = Variable(label)\n",
    "\n",
    "        for p in netD.parameters():\n",
    "            p.requires_grad = True\n",
    "        \n",
    "        #need variables for dis\n",
    "        #x_l, x_l_tilde\n",
    "        #do discriminator calculations\n",
    "        netD.zero_grad()\n",
    "        #fc3_weight,fc4_weight = aux.return_weights()\n",
    "        mu,logvar = netG(inputv)\n",
    "        std = logvar.mul(0.5).exp_()\n",
    "        eps = Variable(std.data.new(std.size()).normal_())\n",
    "        z=eps.mul(std).add_(mu)\n",
    "        fake = aux(z)\n",
    "        \n",
    "        x_l_tilde, output_fake = netD(fake)\n",
    "        x_l, output_real = netD(inputv)\n",
    "        #x_l_aux, output_fake_aux = netD(fake_aux)\n",
    "        \n",
    "        pdist = l1dist(input.view(dataSize,-1), fake.view(dataSize,-1)).mul(lamb)\n",
    "        \n",
    "        print('pdist.size()',pdist.size())\n",
    "        errD_fake = LeakyReLU(output_real - output_fake + pdist).mean()\n",
    "        #print('errD_fake.size()',errD_fake.size())\n",
    "        \n",
    "        errD_fake.backward(retain_graph=True)\n",
    "        \n",
    "        #gradient penalty\n",
    "        #need to set gamma \n",
    "        #print('inputv.size()',inputv.size())\n",
    "        gp = get_direct_gradient_penalty(netD,inputv,10,True)\n",
    "        gp.backward(retain_graph=True)\n",
    "        \n",
    "            \n",
    "        \n",
    "        #this becomes our modified criterion \n",
    "        #L_GAN_real = criterion(output_real, labelv)\n",
    "        #L_GAN_real.backward(retain_graph=True)\n",
    "        \n",
    "        labelv = Variable(label.fill_(fake_label))\n",
    "        #L_GAN_fake = criterion(output_fake, labelv)\n",
    "        #L_GAN_fake.backward(retain_graph=True)\n",
    "        \n",
    "        z_p = Variable(std.data.new(std.size()).normal_())\n",
    "        fake_aux = aux(z_p)\n",
    "        x_l_aux, output_aux = netD(fake_aux)\n",
    "        pdist_aux = l1dist(input.view(dataSize,-1),fake_aux.view(dataSize,-1)).mul(lamb)\n",
    "        errD_aux = LeakyReLU(output_real - output_aux + pdist_aux).mean()\n",
    "        #print('errD_aux.size()',errD_aux.size())\n",
    "        errD_aux.backward(retain_graph=True)\n",
    "        #L_GAN_aux = criterion(output_aux,labelv)\n",
    "        #L_GAN_aux.backward(retain_graph=True)\n",
    "        optimizerD.step()\n",
    "           \n",
    "        for p in netD.parameters():\n",
    "            p.requires_grad = False\n",
    "        \n",
    "        #get weights of netG and use in aux\n",
    "        aux.zero_grad()\n",
    "        labelv=Variable(label.fill_(real_label))\n",
    "        \n",
    "        #L_dec_vae = loss_function(x_l_tilde,x_l,mu,logvar)\n",
    "        L_dec_vae = gamma*F.mse_loss(x_l_tilde,x_l)\n",
    "        #L_dec_fake = criterion(output_fake,labelv)\n",
    "        #L_dec_aux  = criterion(output_aux,labelv)\n",
    "        L_dec_fake = -errD_fake\n",
    "        L_dec_aux  = -errD_aux \n",
    "        L_dec_vae.backward(retain_graph=True)\n",
    "        L_dec_fake.backward(retain_graph=True)\n",
    "        L_dec_aux.backward(retain_graph=True)\n",
    "        optimizer_aux.step()\n",
    "        \n",
    "        \n",
    "\n",
    "        #encoder loss \n",
    "        netG.zero_grad()\n",
    "        L_enc = loss_function(x_l_tilde, x_l,mu,logvar)\n",
    "        L_enc.backward()\n",
    "        optimizerG.step()\n",
    "\n",
    "    \n",
    "        if i % 100 == 0:\n",
    "            print('real_cpu.size()', real_cpu.size())\n",
    "            vutils.save_image(real_cpu,\n",
    "                            './real_samples.png',\n",
    "                                normalize=True)\n",
    "            vutils.save_image(fake.data.view(-1,1,28,28),\n",
    "                                './fake_samples.png',\n",
    "                                normalize=True)"
   ]
  },
  {
   "cell_type": "code",
   "execution_count": null,
   "metadata": {
    "collapsed": true
   },
   "outputs": [],
   "source": []
  }
 ],
 "metadata": {
  "kernelspec": {
   "display_name": "Python 3",
   "language": "python",
   "name": "python3"
  },
  "language_info": {
   "codemirror_mode": {
    "name": "ipython",
    "version": 3
   },
   "file_extension": ".py",
   "mimetype": "text/x-python",
   "name": "python",
   "nbconvert_exporter": "python",
   "pygments_lexer": "ipython3",
   "version": "3.6.5"
  }
 },
 "nbformat": 4,
 "nbformat_minor": 2
}
