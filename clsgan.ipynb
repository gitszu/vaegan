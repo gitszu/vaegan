{
 "cells": [
  {
   "cell_type": "code",
   "execution_count": 1,
   "metadata": {
    "collapsed": true
   },
   "outputs": [],
   "source": [
    "from __future__ import print_function\n",
    "import argparse\n",
    "import torch\n",
    "import torch.utils.data\n",
    "from torch import nn, optim\n",
    "from torch.autograd import Variable\n",
    "from torch.nn import functional as F\n",
    "from torchvision import datasets, transforms\n",
    "from torchvision.utils import save_image\n",
    "import torchvision.utils as vutils\n",
    "\n",
    "\n"
   ]
  },
  {
   "cell_type": "code",
   "execution_count": 2,
   "metadata": {
    "collapsed": true
   },
   "outputs": [],
   "source": [
    "% load_ext autoreload \n",
    "% autoreload 2"
   ]
  },
  {
   "cell_type": "code",
   "execution_count": 3,
   "metadata": {},
   "outputs": [],
   "source": [
    "from modules_tied import CVAE\n",
    "from modules_tied import NetD\n",
    "from modules_tied import Aux\n",
    "from modules_tied import loss_function"
   ]
  },
  {
   "cell_type": "code",
   "execution_count": 4,
   "metadata": {
    "collapsed": true
   },
   "outputs": [],
   "source": [
    "bsz = 100\n",
    "criterion = nn.BCELoss()\n"
   ]
  },
  {
   "cell_type": "code",
   "execution_count": 5,
   "metadata": {
    "collapsed": true
   },
   "outputs": [],
   "source": [
    "train_loader = torch.utils.data.DataLoader(\n",
    "    datasets.MNIST('../data', train=True, download=True,\n",
    "                   transform=transforms.ToTensor()),\n",
    "    batch_size=bsz, shuffle=True)\n",
    "test_loader = torch.utils.data.DataLoader(\n",
    "    datasets.MNIST('../data', train=False, transform=transforms.ToTensor()),\n",
    "    batch_size=bsz, shuffle=True)\n"
   ]
  },
  {
   "cell_type": "code",
   "execution_count": 6,
   "metadata": {},
   "outputs": [
    {
     "name": "stdout",
     "output_type": "stream",
     "text": [
      "CVAE(\n",
      "  (fc1): Linear(in_features=784, out_features=400, bias=True)\n",
      "  (fc21): Linear(in_features=400, out_features=20, bias=True)\n",
      "  (fc22): Linear(in_features=400, out_features=20, bias=True)\n",
      "  (fc3): Linear(in_features=20, out_features=400, bias=True)\n",
      "  (fc4): Linear(in_features=400, out_features=784, bias=True)\n",
      "  (relu): ReLU()\n",
      "  (sigmoid): Sigmoid()\n",
      "  (mu_): Sequential(\n",
      "    (0): Conv2d(1, 8, kernel_size=(5, 5), stride=(2, 2), bias=False)\n",
      "    (1): BatchNorm2d(8, eps=1e-05, momentum=0.1, affine=True, track_running_stats=True)\n",
      "    (2): ReLU(inplace)\n",
      "    (3): Conv2d(8, 64, kernel_size=(5, 5), stride=(2, 2), bias=False)\n",
      "    (4): BatchNorm2d(64, eps=1e-05, momentum=0.1, affine=True, track_running_stats=True)\n",
      "    (5): ReLU(inplace)\n",
      "    (6): Conv2d(64, 20, kernel_size=(4, 4), stride=(1, 1), bias=False)\n",
      "    (7): ReLU(inplace)\n",
      "  )\n",
      "  (logsigma_): Sequential(\n",
      "    (0): Conv2d(1, 8, kernel_size=(5, 5), stride=(2, 2), bias=False)\n",
      "    (1): BatchNorm2d(8, eps=1e-05, momentum=0.1, affine=True, track_running_stats=True)\n",
      "    (2): ReLU(inplace)\n",
      "    (3): Conv2d(8, 64, kernel_size=(5, 5), stride=(2, 2), bias=False)\n",
      "    (4): BatchNorm2d(64, eps=1e-05, momentum=0.1, affine=True, track_running_stats=True)\n",
      "    (5): ReLU(inplace)\n",
      "    (6): Conv2d(64, 20, kernel_size=(4, 4), stride=(1, 1), bias=False)\n",
      "    (7): ReLU(inplace)\n",
      "  )\n",
      "  (dec_): Sequential(\n",
      "    (0): ConvTranspose2d(30, 160, kernel_size=(4, 4), stride=(1, 1), bias=False)\n",
      "    (1): BatchNorm2d(160, eps=1e-05, momentum=0.1, affine=True, track_running_stats=True)\n",
      "    (2): ReLU(inplace)\n",
      "    (3): ConvTranspose2d(160, 320, kernel_size=(4, 4), stride=(2, 2), padding=(1, 1), bias=False)\n",
      "    (4): BatchNorm2d(320, eps=1e-05, momentum=0.1, affine=True, track_running_stats=True)\n",
      "    (5): ReLU(inplace)\n",
      "    (6): ConvTranspose2d(320, 640, kernel_size=(4, 4), stride=(2, 2), padding=(1, 1), bias=False)\n",
      "    (7): BatchNorm2d(640, eps=1e-05, momentum=0.1, affine=True, track_running_stats=True)\n",
      "    (8): ReLU(inplace)\n",
      "    (9): ConvTranspose2d(640, 1, kernel_size=(2, 2), stride=(2, 2), padding=(2, 2), bias=False)\n",
      "    (10): Sigmoid()\n",
      "  )\n",
      ")\n"
     ]
    }
   ],
   "source": [
    "netG = CVAE()\n",
    "netD = NetD()\n",
    "#aux = Aux()\n",
    "print(netG)"
   ]
  },
  {
   "cell_type": "code",
   "execution_count": 7,
   "metadata": {
    "collapsed": true
   },
   "outputs": [],
   "source": [
    "optimizerD = optim.Adam(netD.parameters(), lr=1e-3)\n",
    "optimizerG = optim.Adam(netG.parameters(), lr=1e-3)\n",
    "#optimizer_aux = optim.Adam(aux.parameters(), lr=1e-4)"
   ]
  },
  {
   "cell_type": "code",
   "execution_count": 8,
   "metadata": {
    "collapsed": true
   },
   "outputs": [],
   "source": [
    "input = torch.FloatTensor(bsz,28,28)\n",
    "label = torch.FloatTensor(bsz)\n",
    "real_label=1\n",
    "fake_label=0\n",
    "USE_CUDA=1\n",
    "lamb = 1e-2\n",
    "l1dist = nn.PairwiseDistance(1)\n",
    "l2dist = nn.PairwiseDistance(2)\n",
    "LeakyReLU = nn.LeakyReLU(0)\n",
    "\n",
    "if(USE_CUDA):\n",
    "    netG=netG.cuda()\n",
    "    netD=netD.cuda()\n",
    "    #aux = aux.cuda()\n",
    "    #criterion=criterion.cuda()\n",
    "    input,label=input.cuda(), label.cuda()\n",
    "    l1dist = l1dist.cuda()\n",
    "    l2dist = l2dist.cuda()\n",
    "    LeakyReLU = LeakyReLU.cuda()"
   ]
  },
  {
   "cell_type": "code",
   "execution_count": 9,
   "metadata": {
    "collapsed": true
   },
   "outputs": [],
   "source": [
    "def get_direct_gradient_penalty(netD, x, gamma, cuda):\n",
    "    _,output = netD(x)\n",
    "    gradOutput = torch.ones(output.size()).cuda() if cuda else torch.ones(output.size())\n",
    "    \n",
    "    gradient = torch.autograd.grad(outputs=output, inputs=x, grad_outputs=gradOutput, create_graph=True, retain_graph=True, only_inputs=True)[0]\n",
    "    gradientPenalty = (gradient.norm(2, dim=1)).mean() * gamma\n",
    "    \n",
    "    return gradientPenalty\n"
   ]
  },
  {
   "cell_type": "code",
   "execution_count": null,
   "metadata": {},
   "outputs": [],
   "source": [
    "from train import run_trainer"
   ]
  },
  {
   "cell_type": "code",
   "execution_count": null,
   "metadata": {},
   "outputs": [
    {
     "name": "stdout",
     "output_type": "stream",
     "text": [
      "epoch  0\n",
      "epoch  0\n",
      "epoch  0\n",
      "epoch  0\n",
      "epoch  0\n",
      "epoch  0\n",
      "losses 0 -24.5439539112 359.535509527\n",
      "e_enc [359.53550952672958]\n",
      "epoch  1\n",
      "epoch  1\n",
      "epoch  1\n",
      "epoch  1\n",
      "epoch  1\n",
      "epoch  1\n",
      "losses 1 -72.1103717624 308.976175845\n",
      "e_enc [359.53550952672958, 308.97617584466934]\n",
      "epoch  2\n",
      "epoch  2\n",
      "epoch  2\n",
      "epoch  2\n",
      "epoch  2\n",
      "epoch  2\n",
      "losses 2 -40.0685885921 257.022022933\n",
      "e_enc [359.53550952672958, 308.97617584466934, 257.02202293276787]\n",
      "epoch  3\n",
      "epoch  3\n",
      "epoch  3\n",
      "epoch  3\n",
      "epoch  3\n",
      "epoch  3\n",
      "losses 3 -46.3214931227 272.593817651\n",
      "e_enc [359.53550952672958, 308.97617584466934, 257.02202293276787, 272.59381765127182]\n",
      "epoch  4\n",
      "epoch  4\n",
      "epoch  4\n",
      "epoch  4\n",
      "epoch  4\n",
      "epoch  4\n",
      "losses 4 -51.0576077122 266.891194373\n",
      "e_enc [359.53550952672958, 308.97617584466934, 257.02202293276787, 272.59381765127182, 266.89119437336922]\n",
      "epoch  5\n",
      "epoch  5\n",
      "epoch  5\n",
      "epoch  5\n",
      "epoch  5\n",
      "epoch  5\n",
      "losses 5 -47.0922481082 252.284244508\n",
      "e_enc [359.53550952672958, 308.97617584466934, 257.02202293276787, 272.59381765127182, 266.89119437336922, 252.28424450755119]\n",
      "epoch  6\n",
      "epoch  6\n",
      "epoch  6\n",
      "epoch  6\n",
      "epoch  6\n",
      "epoch  6\n",
      "losses 6 -48.1819751756 211.506207094\n",
      "e_enc [359.53550952672958, 308.97617584466934, 257.02202293276787, 272.59381765127182, 266.89119437336922, 252.28424450755119, 211.50620709359646]\n",
      "epoch  7\n",
      "epoch  7\n",
      "epoch  7\n",
      "epoch  7\n",
      "epoch  7\n",
      "epoch  7\n"
     ]
    }
   ],
   "source": [
    "run_trainer(netG,netD,optimizerG,optimizerD,train_loader,bsz)"
   ]
  },
  {
   "cell_type": "code",
   "execution_count": null,
   "metadata": {},
   "outputs": [],
   "source": [
    "label_ = torch.LongTensor(64,1)\n",
    "\n",
    "for i in range(64):\n",
    "    label_[i][0] = 5\n",
    "\n",
    "onehot_tmp = torch.FloatTensor(64,10)\n",
    "\n",
    "sample = Variable(torch.randn(64, 20))\n",
    "onehot_tmp.zero_()\n",
    "onehot_tmp.scatter_(1,label_,1)\n",
    "onehot = Variable(onehot_tmp)\n",
    "    \n",
    "    \n",
    "if USE_CUDA==1:\n",
    "    sample = sample.cuda()\n",
    "    onehot = onehot.cuda()\n",
    "    sample = netG.decode_new(torch.cat((sample,onehot),1)).cpu()\n",
    "    save_image(sample.data.view(64, 1, 28, 28),\n",
    "                'sample'+ '.png')"
   ]
  },
  {
   "cell_type": "code",
   "execution_count": null,
   "metadata": {
    "collapsed": true
   },
   "outputs": [],
   "source": []
  }
 ],
 "metadata": {
  "kernelspec": {
   "display_name": "Python 3",
   "language": "python",
   "name": "python3"
  },
  "language_info": {
   "codemirror_mode": {
    "name": "ipython",
    "version": 3
   },
   "file_extension": ".py",
   "mimetype": "text/x-python",
   "name": "python",
   "nbconvert_exporter": "python",
   "pygments_lexer": "ipython3",
   "version": "3.6.5"
  }
 },
 "nbformat": 4,
 "nbformat_minor": 2
}
